{
 "cells": [
  {
   "cell_type": "code",
   "execution_count": 1,
   "metadata": {},
   "outputs": [],
   "source": [
    "from utilities.driver_settings import start_driver\n",
    "from selenium.webdriver.common.by import By\n",
    "\n",
    "driver, wait = start_driver()\n",
    "driver.get('https://weather.com/')"
   ]
  },
  {
   "cell_type": "code",
   "execution_count": 6,
   "metadata": {},
   "outputs": [
    {
     "data": {
      "text/plain": [
       "('banner.png', <http.client.HTTPMessage at 0x2bf148a9ca0>)"
      ]
     },
     "execution_count": 6,
     "metadata": {},
     "output_type": "execute_result"
    }
   ],
   "source": [
    "import urllib.request\n",
    "\n",
    "# //div[@data-testid=\"CurrentConditionsContainer\"]/section\n",
    "element = driver.find_element(By.XPATH, '//div[@data-testid=\"CurrentConditionsContainer\"]/section')\n",
    "# print(element.get_attribute('style'))\n",
    "url = element.get_attribute('style').removeprefix('background-image: url(\"').removesuffix('\");')\n",
    "# print(url)\n",
    "urllib.request.urlretrieve(url, 'banner.png')\n"
   ]
  },
  {
   "cell_type": "code",
   "execution_count": 2,
   "metadata": {},
   "outputs": [
    {
     "name": "stdout",
     "output_type": "stream",
     "text": [
      "Brasília, Distrito Federal\n",
      "Até 21:55 GMT-03:00\n",
      "16°\n",
      "Limpo\n",
      "Dia 25° • Noite 11°\n"
     ]
    }
   ],
   "source": [
    "# //div[@data-testid=\"CurrentConditionsContainer\"]/section/div/div/div/h1\n",
    "location = driver.find_element(By.XPATH, '//div[@data-testid=\"CurrentConditionsContainer\"]/section/div/div/div/h1').text\n",
    "print(location)\n",
    "\n",
    "# //div[@data-testid=\"CurrentConditionsContainer\"]/section/div/div/div/span\n",
    "timestamp = driver.find_element(By.XPATH, '//div[@data-testid=\"CurrentConditionsContainer\"]/section/div/div/div/span').text\n",
    "print(timestamp)\n",
    "\n",
    "# //div[@data-testid=\"CurrentConditionsContainer\"]/section/div/div/div[2]/div/div/span\n",
    "temp_now = driver.find_element(By.XPATH, '//div[@data-testid=\"CurrentConditionsContainer\"]/section/div/div/div[2]/div/div/span').text\n",
    "print(temp_now)\n",
    "\n",
    "# //div[@data-testid=\"CurrentConditionsContainer\"]/section/div/div/div[2]/div/div/div\n",
    "condition = driver.find_element(By.XPATH, '//div[@data-testid=\"CurrentConditionsContainer\"]/section/div/div/div[2]/div/div/div').text\n",
    "print(condition)\n",
    "\n",
    "# //div[@data-testid=\"CurrentConditionsContainer\"]/section/div/div/div[2]/div/div/div[2]\n",
    "day_and_night_temp = driver.find_element(By.XPATH, '//div[@data-testid=\"CurrentConditionsContainer\"]/section/div/div/div[2]/div/div/div[2]').text\n",
    "print(day_and_night_temp)"
   ]
  },
  {
   "cell_type": "code",
   "execution_count": 22,
   "metadata": {},
   "outputs": [
    {
     "name": "stdout",
     "output_type": "stream",
     "text": [
      "#svg-symbol-moon\n"
     ]
    }
   ],
   "source": [
    "# //div[@data-testid=\"CurrentConditionsContainer\"]/section/div/div/div[2]/div/div[2]/*[name()=\"svg\"]\n",
    "\n",
    "import os\n",
    "os.environ['path'] += r';C:\\Program Files\\GTK3-Runtime Win64\\bin'\n",
    "\n",
    "import cairosvg\n",
    "\n",
    "element = driver.find_element(By.XPATH, '//div[@data-testid=\"CurrentConditionsContainer\"]/section/div/div/div[2]/div/div[2]/*[name()=\"svg\"]/*[2]')\n",
    "\n",
    "# cairosvg.svg2png(url=element.tag_name, write_to='sun.png')\n",
    "print(element.get_attribute('xlink:href'))"
   ]
  },
  {
   "cell_type": "code",
   "execution_count": 4,
   "metadata": {},
   "outputs": [],
   "source": [
    "# //div[@class=\"styles--OverflowNav--AWKwe styles--overflowNav--cdZvZ\"]/a[3]\n",
    "\n",
    "# Clicar em 10 dias\n",
    "driver.find_element(By.XPATH, '//div[@class=\"styles--OverflowNav--AWKwe styles--overflowNav--cdZvZ\"]/a[3]').click()"
   ]
  },
  {
   "cell_type": "code",
   "execution_count": 8,
   "metadata": {},
   "outputs": [],
   "source": [
    "# //div[@class=\"DailyForecast--DisclosureList--nosQS\"]/details[1]/summary/div/*[name()='svg']\n",
    "\n",
    "# Recolher o primeiro item\n",
    "driver.find_element(By.XPATH, '//div[@class=\"DailyForecast--DisclosureList--nosQS\"]/details[1]/summary/div/*[name()=\"svg\"]').click()"
   ]
  },
  {
   "cell_type": "code",
   "execution_count": 28,
   "metadata": {},
   "outputs": [
    {
     "name": "stdout",
     "output_type": "stream",
     "text": [
      "Ensolarado\n",
      "27°/12°\n"
     ]
    }
   ],
   "source": [
    "id_ = 4\n",
    "\n",
    "# Obter informações dos próximos três dias\n",
    "condition = driver.find_element(By.XPATH, f'//div[@class=\"DailyForecast--DisclosureList--nosQS\"]/details[{id_}]/summary/div/div/div/span[@class=\"DetailsSummary--extendedData--307Ax\"]').get_attribute('textContent')\n",
    "print(condition)\n",
    "\n",
    "temp = driver.find_element(By.XPATH, f'//div[@class=\"DailyForecast--DisclosureList--nosQS\"]/details[{id_}]/summary/div/div/div/span[@data-testid=\"TemperatureValue\"]').get_attribute('textContent')\n",
    "# print(temp)\n",
    "\n",
    "low_temp = driver.find_element(By.XPATH, f'//div[@class=\"DailyForecast--DisclosureList--nosQS\"]/details[{id_}]/summary/div/div/div/span[@data-testid=\"lowTempValue\"]').get_attribute('textContent')\n",
    "# print(low_temp)\n",
    "print(temp + low_temp)"
   ]
  },
  {
   "cell_type": "code",
   "execution_count": 3,
   "metadata": {},
   "outputs": [],
   "source": [
    "# get html and save it\n",
    "with open('page_source.html', 'w', encoding='utf-8') as file:\n",
    "    file.write(driver.page_source)"
   ]
  },
  {
   "cell_type": "code",
   "execution_count": 4,
   "metadata": {},
   "outputs": [],
   "source": [
    "driver.quit()"
   ]
  }
 ],
 "metadata": {
  "kernelspec": {
   "display_name": "Python 3",
   "language": "python",
   "name": "python3"
  },
  "language_info": {
   "codemirror_mode": {
    "name": "ipython",
    "version": 3
   },
   "file_extension": ".py",
   "mimetype": "text/x-python",
   "name": "python",
   "nbconvert_exporter": "python",
   "pygments_lexer": "ipython3",
   "version": "3.12.2"
  }
 },
 "nbformat": 4,
 "nbformat_minor": 2
}
