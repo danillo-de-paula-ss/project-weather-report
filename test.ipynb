{
 "cells": [
  {
   "cell_type": "code",
   "execution_count": 1,
   "metadata": {},
   "outputs": [],
   "source": [
    "from utilities.driver_settings import start_driver\n",
    "from selenium.webdriver.common.by import By\n",
    "from selenium.webdriver.support import expected_conditions\n",
    "from time import sleep\n",
    "\n",
    "driver, wait = start_driver()\n",
    "driver.get('https://weather.com/')"
   ]
  },
  {
   "cell_type": "code",
   "execution_count": 20,
   "metadata": {},
   "outputs": [],
   "source": [
    "# //button[@class=\"message-component message-button no-children focusable cta-button sp_choice_type_13\"]\n",
    "from selenium.webdriver.support import expected_conditions\n",
    "from time import sleep\n",
    "\n",
    "sleep(1)\n",
    "\n",
    "# Entrar no iframe\n",
    "frame = wait.until(expected_conditions.visibility_of_element_located((By.XPATH, '//iframe[@title=\"SP Consent Message\"]')))\n",
    "driver.switch_to.frame(frame)\n",
    "\n",
    "# Clicar em \"Rejeitar Todos\"\n",
    "button = wait.until(expected_conditions.element_to_be_clickable((By.XPATH, '//button[@class=\"message-component message-button no-children focusable cta-button sp_choice_type_13\"]')))\n",
    "button.click()\n",
    "\n",
    "# Sair do frame\n",
    "driver.switch_to.default_content()"
   ]
  },
  {
   "cell_type": "code",
   "execution_count": 18,
   "metadata": {},
   "outputs": [],
   "source": [
    "driver.switch_to.default_content()"
   ]
  },
  {
   "cell_type": "code",
   "execution_count": 6,
   "metadata": {},
   "outputs": [
    {
     "data": {
      "text/plain": [
       "('banner.png', <http.client.HTTPMessage at 0x2bf148a9ca0>)"
      ]
     },
     "execution_count": 6,
     "metadata": {},
     "output_type": "execute_result"
    }
   ],
   "source": [
    "import urllib.request\n",
    "\n",
    "# //div[@data-testid=\"CurrentConditionsContainer\"]/section\n",
    "element = driver.find_element(By.XPATH, '//div[@data-testid=\"CurrentConditionsContainer\"]/section')\n",
    "# print(element.get_attribute('style'))\n",
    "url = element.get_attribute('style').removeprefix('background-image: url(\"').removesuffix('\");')\n",
    "# print(url)\n",
    "urllib.request.urlretrieve(url, 'banner.png')\n"
   ]
  },
  {
   "cell_type": "code",
   "execution_count": 2,
   "metadata": {},
   "outputs": [
    {
     "name": "stdout",
     "output_type": "stream",
     "text": [
      "Brasília, Distrito Federal\n",
      "Até 22:09 GMT-03:00\n",
      "17°\n",
      "Limpo\n",
      "Dia 26° • Noite 12°\n"
     ]
    }
   ],
   "source": [
    "# //div[@data-testid=\"CurrentConditionsContainer\"]/section/div/div/div/h1\n",
    "location = driver.find_element(By.XPATH, '//div[@data-testid=\"CurrentConditionsContainer\"]/section/div/div/div/h1').text\n",
    "print(location)\n",
    "\n",
    "# //div[@data-testid=\"CurrentConditionsContainer\"]/section/div/div/div/span\n",
    "timestamp = driver.find_element(By.XPATH, '//div[@data-testid=\"CurrentConditionsContainer\"]/section/div/div/div/span').text\n",
    "print(timestamp)\n",
    "\n",
    "# //div[@data-testid=\"CurrentConditionsContainer\"]/section/div/div/div[2]/div/div/span\n",
    "temp_now = driver.find_element(By.XPATH, '//div[@data-testid=\"CurrentConditionsContainer\"]/section/div/div/div[2]/div/div/span').text\n",
    "print(temp_now)\n",
    "\n",
    "# //div[@data-testid=\"CurrentConditionsContainer\"]/section/div/div/div[2]/div/div/div\n",
    "condition = driver.find_element(By.XPATH, '//div[@data-testid=\"CurrentConditionsContainer\"]/section/div/div/div[2]/div/div/div').text\n",
    "print(condition)\n",
    "\n",
    "# //div[@data-testid=\"CurrentConditionsContainer\"]/section/div/div/div[2]/div/div/div[2]\n",
    "day_and_night_temp = driver.find_element(By.XPATH, '//div[@data-testid=\"CurrentConditionsContainer\"]/section/div/div/div[2]/div/div/div[2]').text\n",
    "print(day_and_night_temp)"
   ]
  },
  {
   "cell_type": "code",
   "execution_count": 22,
   "metadata": {},
   "outputs": [
    {
     "name": "stdout",
     "output_type": "stream",
     "text": [
      "#svg-symbol-moon\n"
     ]
    }
   ],
   "source": [
    "# //div[@data-testid=\"CurrentConditionsContainer\"]/section/div/div/div[2]/div/div[2]/*[name()=\"svg\"]\n",
    "\n",
    "import os\n",
    "os.environ['path'] += r';C:\\Program Files\\GTK3-Runtime Win64\\bin'\n",
    "\n",
    "import cairosvg\n",
    "\n",
    "element = driver.find_element(By.XPATH, '//div[@data-testid=\"CurrentConditionsContainer\"]/section/div/div/div[2]/div/div[2]/*[name()=\"svg\"]/*[2]')\n",
    "\n",
    "print(element.get_attribute('xlink:href'))"
   ]
  },
  {
   "cell_type": "code",
   "execution_count": 21,
   "metadata": {},
   "outputs": [],
   "source": [
    "# //div[@class=\"styles--OverflowNav--AWKwe styles--overflowNav--cdZvZ\"]/a[3]\n",
    "\n",
    "# Clicar em 10 dias\n",
    "driver.find_element(By.XPATH, '//div[@class=\"styles--OverflowNav--AWKwe styles--overflowNav--cdZvZ\"]/a[3]').click()"
   ]
  },
  {
   "cell_type": "code",
   "execution_count": 8,
   "metadata": {},
   "outputs": [],
   "source": [
    "# //div[@class=\"DailyForecast--DisclosureList--nosQS\"]/details[1]/summary/div/*[name()='svg']\n",
    "\n",
    "# Recolher o primeiro item\n",
    "driver.find_element(By.XPATH, '//div[@class=\"DailyForecast--DisclosureList--nosQS\"]/details[1]/summary/div/*[name()=\"svg\"]').click()"
   ]
  },
  {
   "cell_type": "code",
   "execution_count": 8,
   "metadata": {},
   "outputs": [
    {
     "name": "stdout",
     "output_type": "stream",
     "text": [
      "Pouco Nublado\n",
      "--/12°\n"
     ]
    }
   ],
   "source": [
    "id_ = 1\n",
    "\n",
    "# Obter informações dos próximos três dias\n",
    "condition = driver.find_element(By.XPATH, f'//div[@class=\"DailyForecast--DisclosureList--nosQS\"]/details[{id_}]/summary/div/div/div/span[@class=\"DetailsSummary--extendedData--307Ax\"]').get_attribute('textContent')\n",
    "print(condition)\n",
    "\n",
    "temp = driver.find_element(By.XPATH, f'//div[@class=\"DailyForecast--DisclosureList--nosQS\"]/details[{id_}]/summary/div/div/div/span[@data-testid=\"TemperatureValue\"]').get_attribute('textContent')\n",
    "# print(temp)\n",
    "\n",
    "low_temp = driver.find_element(By.XPATH, f'//div[@class=\"DailyForecast--DisclosureList--nosQS\"]/details[{id_}]/summary/div/div/div/span[@data-testid=\"lowTempValue\"]').get_attribute('textContent')\n",
    "# print(low_temp)\n",
    "print(temp + low_temp)"
   ]
  },
  {
   "cell_type": "code",
   "execution_count": 25,
   "metadata": {},
   "outputs": [],
   "source": [
    "for i in range(1, 5):\n",
    "    sleep(1)\n",
    "    # print(driver.find_element(By.XPATH, f'//div[@class=\"DailyForecast--DisclosureList--nosQS\"]/details[{i}]').get_property('open'))\n",
    "    item = driver.find_element(By.XPATH, f'//div[@class=\"DailyForecast--DisclosureList--nosQS\"]/details[{i}]')\n",
    "    if not item.get_property('open'):\n",
    "        item.find_element(By.XPATH, f'./summary/div/*[name()=\"svg\"]').click()"
   ]
  },
  {
   "cell_type": "code",
   "execution_count": 3,
   "metadata": {},
   "outputs": [],
   "source": [
    "# get html and save it\n",
    "with open('page_source.html', 'w', encoding='utf-8') as file:\n",
    "    file.write(driver.page_source)"
   ]
  },
  {
   "cell_type": "code",
   "execution_count": 4,
   "metadata": {},
   "outputs": [],
   "source": [
    "driver.quit()"
   ]
  }
 ],
 "metadata": {
  "kernelspec": {
   "display_name": "Python 3",
   "language": "python",
   "name": "python3"
  },
  "language_info": {
   "codemirror_mode": {
    "name": "ipython",
    "version": 3
   },
   "file_extension": ".py",
   "mimetype": "text/x-python",
   "name": "python",
   "nbconvert_exporter": "python",
   "pygments_lexer": "ipython3",
   "version": "3.12.2"
  }
 },
 "nbformat": 4,
 "nbformat_minor": 2
}
